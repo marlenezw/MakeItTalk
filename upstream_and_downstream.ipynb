{
 "cells": [
  {
   "cell_type": "code",
   "execution_count": 1,
   "metadata": {},
   "outputs": [
    {
     "name": "stdout",
     "output_type": "stream",
     "text": [
      "Requirement already satisfied: ffmpeg-python in c:\\users\\marle\\anaconda3\\lib\\site-packages (from -r requirements.txt (line 1)) (0.2.0)\n",
      "Requirement already satisfied: opencv-python in c:\\users\\marle\\anaconda3\\lib\\site-packages (from -r requirements.txt (line 2)) (4.7.0.68)\n",
      "Requirement already satisfied: face_alignment in c:\\users\\marle\\anaconda3\\lib\\site-packages (from -r requirements.txt (line 3)) (1.3.5)\n",
      "Requirement already satisfied: scikit-learn in c:\\users\\marle\\anaconda3\\lib\\site-packages (from -r requirements.txt (line 4)) (1.0.2)\n",
      "Requirement already satisfied: pydub in c:\\users\\marle\\anaconda3\\lib\\site-packages (from -r requirements.txt (line 5)) (0.25.1)\n",
      "Requirement already satisfied: pynormalize in c:\\users\\marle\\anaconda3\\lib\\site-packages (from -r requirements.txt (line 6)) (0.1.4)\n",
      "Requirement already satisfied: soundfile in c:\\users\\marle\\anaconda3\\lib\\site-packages (from -r requirements.txt (line 7)) (0.11.0)\n",
      "Requirement already satisfied: librosa in c:\\users\\marle\\anaconda3\\lib\\site-packages (from -r requirements.txt (line 8)) (0.9.2)\n",
      "Requirement already satisfied: pysptk in c:\\users\\marle\\anaconda3\\lib\\site-packages (from -r requirements.txt (line 9)) (0.2.0)\n",
      "Requirement already satisfied: pyworld in c:\\users\\marle\\anaconda3\\lib\\site-packages (from -r requirements.txt (line 10)) (0.3.2)\n",
      "Requirement already satisfied: resemblyzer in c:\\users\\marle\\anaconda3\\lib\\site-packages (from -r requirements.txt (line 11)) (0.1.1.dev0)\n",
      "Requirement already satisfied: tensorboardX in c:\\users\\marle\\anaconda3\\lib\\site-packages (from -r requirements.txt (line 12)) (2.6)\n",
      "Requirement already satisfied: gradio in c:\\users\\marle\\anaconda3\\lib\\site-packages (from -r requirements.txt (line 13)) (3.18.0)\n",
      "Requirement already satisfied: gdown in c:\\users\\marle\\anaconda3\\lib\\site-packages (from -r requirements.txt (line 14)) (4.6.3)\n",
      "Requirement already satisfied: future in c:\\users\\marle\\anaconda3\\lib\\site-packages (from ffmpeg-python->-r requirements.txt (line 1)) (0.18.2)\n",
      "Requirement already satisfied: numpy>=1.17.0 in c:\\users\\marle\\anaconda3\\lib\\site-packages (from opencv-python->-r requirements.txt (line 2)) (1.21.5)\n",
      "Requirement already satisfied: scipy>=0.17 in c:\\users\\marle\\anaconda3\\lib\\site-packages (from face_alignment->-r requirements.txt (line 3)) (1.9.1)\n",
      "Requirement already satisfied: scikit-image in c:\\users\\marle\\anaconda3\\lib\\site-packages (from face_alignment->-r requirements.txt (line 3)) (0.19.2)\n",
      "Requirement already satisfied: torch in c:\\users\\marle\\anaconda3\\lib\\site-packages (from face_alignment->-r requirements.txt (line 3)) (1.13.1+cu116)\n",
      "Requirement already satisfied: tqdm in c:\\users\\marle\\anaconda3\\lib\\site-packages (from face_alignment->-r requirements.txt (line 3)) (4.64.1)\n",
      "Requirement already satisfied: numba in c:\\users\\marle\\anaconda3\\lib\\site-packages (from face_alignment->-r requirements.txt (line 3)) (0.55.1)\n",
      "Requirement already satisfied: joblib>=0.11 in c:\\users\\marle\\anaconda3\\lib\\site-packages (from scikit-learn->-r requirements.txt (line 4)) (1.1.0)\n",
      "Requirement already satisfied: threadpoolctl>=2.0.0 in c:\\users\\marle\\anaconda3\\lib\\site-packages (from scikit-learn->-r requirements.txt (line 4)) (2.2.0)\n",
      "Requirement already satisfied: mutagen>=1.40.0 in c:\\users\\marle\\anaconda3\\lib\\site-packages (from pynormalize->-r requirements.txt (line 6)) (1.46.0)\n",
      "Requirement already satisfied: cffi>=1.0 in c:\\users\\marle\\anaconda3\\lib\\site-packages (from soundfile->-r requirements.txt (line 7)) (1.15.1)\n",
      "Requirement already satisfied: audioread>=2.1.9 in c:\\users\\marle\\anaconda3\\lib\\site-packages (from librosa->-r requirements.txt (line 8)) (3.0.0)\n",
      "Requirement already satisfied: decorator>=4.0.10 in c:\\users\\marle\\anaconda3\\lib\\site-packages (from librosa->-r requirements.txt (line 8)) (5.1.1)\n",
      "Requirement already satisfied: resampy>=0.2.2 in c:\\users\\marle\\anaconda3\\lib\\site-packages (from librosa->-r requirements.txt (line 8)) (0.4.2)\n",
      "Requirement already satisfied: pooch>=1.0 in c:\\users\\marle\\anaconda3\\lib\\site-packages (from librosa->-r requirements.txt (line 8)) (1.6.0)\n",
      "Requirement already satisfied: packaging>=20.0 in c:\\users\\marle\\anaconda3\\lib\\site-packages (from librosa->-r requirements.txt (line 8)) (21.3)\n",
      "Requirement already satisfied: cython>=0.28.0 in c:\\users\\marle\\anaconda3\\lib\\site-packages (from pysptk->-r requirements.txt (line 9)) (0.29.32)\n",
      "Requirement already satisfied: typing in c:\\users\\marle\\anaconda3\\lib\\site-packages (from resemblyzer->-r requirements.txt (line 11)) (3.7.4.3)\n",
      "Requirement already satisfied: webrtcvad>=2.0.10 in c:\\users\\marle\\anaconda3\\lib\\site-packages (from resemblyzer->-r requirements.txt (line 11)) (2.0.10)\n",
      "Requirement already satisfied: protobuf<4,>=3.8.0 in c:\\users\\marle\\anaconda3\\lib\\site-packages (from tensorboardX->-r requirements.txt (line 12)) (3.20.3)\n",
      "Requirement already satisfied: jinja2 in c:\\users\\marle\\anaconda3\\lib\\site-packages (from gradio->-r requirements.txt (line 13)) (2.11.3)\n",
      "Requirement already satisfied: websockets>=10.0 in c:\\users\\marle\\anaconda3\\lib\\site-packages (from gradio->-r requirements.txt (line 13)) (10.4)\n",
      "Requirement already satisfied: ffmpy in c:\\users\\marle\\anaconda3\\lib\\site-packages (from gradio->-r requirements.txt (line 13)) (0.3.0)\n",
      "Requirement already satisfied: pydantic in c:\\users\\marle\\anaconda3\\lib\\site-packages (from gradio->-r requirements.txt (line 13)) (1.10.4)\n",
      "Requirement already satisfied: requests in c:\\users\\marle\\anaconda3\\lib\\site-packages (from gradio->-r requirements.txt (line 13)) (2.28.1)\n",
      "Requirement already satisfied: pycryptodome in c:\\users\\marle\\anaconda3\\lib\\site-packages (from gradio->-r requirements.txt (line 13)) (3.17)\n",
      "Requirement already satisfied: markdown-it-py[linkify,plugins]>=2.0.0 in c:\\users\\marle\\anaconda3\\lib\\site-packages (from gradio->-r requirements.txt (line 13)) (2.1.0)\n",
      "Requirement already satisfied: python-multipart in c:\\users\\marle\\anaconda3\\lib\\site-packages (from gradio->-r requirements.txt (line 13)) (0.0.5)\n",
      "Requirement already satisfied: pyyaml in c:\\users\\marle\\anaconda3\\lib\\site-packages (from gradio->-r requirements.txt (line 13)) (6.0)\n",
      "Requirement already satisfied: fsspec in c:\\users\\marle\\anaconda3\\lib\\site-packages (from gradio->-r requirements.txt (line 13)) (2022.7.1)\n",
      "Requirement already satisfied: pillow in c:\\users\\marle\\anaconda3\\lib\\site-packages (from gradio->-r requirements.txt (line 13)) (9.2.0)\n",
      "Requirement already satisfied: markupsafe in c:\\users\\marle\\anaconda3\\lib\\site-packages (from gradio->-r requirements.txt (line 13)) (2.0.1)\n",
      "Requirement already satisfied: aiofiles in c:\\users\\marle\\anaconda3\\lib\\site-packages (from gradio->-r requirements.txt (line 13)) (23.1.0)\n",
      "Requirement already satisfied: altair>=4.2.0 in c:\\users\\marle\\anaconda3\\lib\\site-packages (from gradio->-r requirements.txt (line 13)) (4.2.2)\n",
      "Requirement already satisfied: uvicorn in c:\\users\\marle\\anaconda3\\lib\\site-packages (from gradio->-r requirements.txt (line 13)) (0.20.0)\n",
      "Requirement already satisfied: httpx in c:\\users\\marle\\anaconda3\\lib\\site-packages (from gradio->-r requirements.txt (line 13)) (0.23.3)\n",
      "Requirement already satisfied: orjson in c:\\users\\marle\\anaconda3\\lib\\site-packages (from gradio->-r requirements.txt (line 13)) (3.8.6)\n",
      "Requirement already satisfied: matplotlib in c:\\users\\marle\\anaconda3\\lib\\site-packages (from gradio->-r requirements.txt (line 13)) (3.5.2)\n",
      "Requirement already satisfied: fastapi in c:\\users\\marle\\anaconda3\\lib\\site-packages (from gradio->-r requirements.txt (line 13)) (0.91.0)\n",
      "Requirement already satisfied: typing-extensions in c:\\users\\marle\\anaconda3\\lib\\site-packages (from gradio->-r requirements.txt (line 13)) (4.3.0)\n",
      "Requirement already satisfied: aiohttp in c:\\users\\marle\\anaconda3\\lib\\site-packages (from gradio->-r requirements.txt (line 13)) (3.8.4)\n",
      "Requirement already satisfied: pandas in c:\\users\\marle\\anaconda3\\lib\\site-packages (from gradio->-r requirements.txt (line 13)) (1.4.4)\n",
      "Requirement already satisfied: six in c:\\users\\marle\\anaconda3\\lib\\site-packages (from gdown->-r requirements.txt (line 14)) (1.16.0)\n",
      "Requirement already satisfied: beautifulsoup4 in c:\\users\\marle\\anaconda3\\lib\\site-packages (from gdown->-r requirements.txt (line 14)) (4.11.1)\n",
      "Requirement already satisfied: filelock in c:\\users\\marle\\anaconda3\\lib\\site-packages (from gdown->-r requirements.txt (line 14)) (3.6.0)\n",
      "Requirement already satisfied: jsonschema>=3.0 in c:\\users\\marle\\anaconda3\\lib\\site-packages (from altair>=4.2.0->gradio->-r requirements.txt (line 13)) (4.16.0)\n",
      "Requirement already satisfied: entrypoints in c:\\users\\marle\\anaconda3\\lib\\site-packages (from altair>=4.2.0->gradio->-r requirements.txt (line 13)) (0.4)\n",
      "Requirement already satisfied: toolz in c:\\users\\marle\\anaconda3\\lib\\site-packages (from altair>=4.2.0->gradio->-r requirements.txt (line 13)) (0.11.2)\n",
      "Requirement already satisfied: pycparser in c:\\users\\marle\\anaconda3\\lib\\site-packages (from cffi>=1.0->soundfile->-r requirements.txt (line 7)) (2.21)\n",
      "Requirement already satisfied: mdurl~=0.1 in c:\\users\\marle\\anaconda3\\lib\\site-packages (from markdown-it-py[linkify,plugins]>=2.0.0->gradio->-r requirements.txt (line 13)) (0.1.2)\n",
      "Requirement already satisfied: mdit-py-plugins in c:\\users\\marle\\anaconda3\\lib\\site-packages (from markdown-it-py[linkify,plugins]>=2.0.0->gradio->-r requirements.txt (line 13)) (0.3.3)\n",
      "Requirement already satisfied: linkify-it-py~=1.0 in c:\\users\\marle\\anaconda3\\lib\\site-packages (from markdown-it-py[linkify,plugins]>=2.0.0->gradio->-r requirements.txt (line 13)) (1.0.3)\n",
      "Requirement already satisfied: llvmlite<0.39,>=0.38.0rc1 in c:\\users\\marle\\anaconda3\\lib\\site-packages (from numba->face_alignment->-r requirements.txt (line 3)) (0.38.0)\n",
      "Requirement already satisfied: setuptools in c:\\users\\marle\\anaconda3\\lib\\site-packages (from numba->face_alignment->-r requirements.txt (line 3)) (63.4.1)\n",
      "Requirement already satisfied: pyparsing!=3.0.5,>=2.0.2 in c:\\users\\marle\\anaconda3\\lib\\site-packages (from packaging>=20.0->librosa->-r requirements.txt (line 8)) (3.0.9)\n",
      "Requirement already satisfied: python-dateutil>=2.8.1 in c:\\users\\marle\\anaconda3\\lib\\site-packages (from pandas->gradio->-r requirements.txt (line 13)) (2.8.2)\n",
      "Requirement already satisfied: pytz>=2020.1 in c:\\users\\marle\\anaconda3\\lib\\site-packages (from pandas->gradio->-r requirements.txt (line 13)) (2022.1)\n",
      "Requirement already satisfied: appdirs>=1.3.0 in c:\\users\\marle\\anaconda3\\lib\\site-packages (from pooch>=1.0->librosa->-r requirements.txt (line 8)) (1.4.4)\n",
      "Requirement already satisfied: certifi>=2017.4.17 in c:\\users\\marle\\anaconda3\\lib\\site-packages (from requests->gradio->-r requirements.txt (line 13)) (2022.9.14)\n",
      "Requirement already satisfied: urllib3<1.27,>=1.21.1 in c:\\users\\marle\\anaconda3\\lib\\site-packages (from requests->gradio->-r requirements.txt (line 13)) (1.26.11)\n",
      "Requirement already satisfied: charset-normalizer<3,>=2 in c:\\users\\marle\\anaconda3\\lib\\site-packages (from requests->gradio->-r requirements.txt (line 13)) (2.0.4)\n",
      "Requirement already satisfied: idna<4,>=2.5 in c:\\users\\marle\\anaconda3\\lib\\site-packages (from requests->gradio->-r requirements.txt (line 13)) (3.3)\n",
      "Requirement already satisfied: multidict<7.0,>=4.5 in c:\\users\\marle\\anaconda3\\lib\\site-packages (from aiohttp->gradio->-r requirements.txt (line 13)) (6.0.4)\n",
      "Requirement already satisfied: yarl<2.0,>=1.0 in c:\\users\\marle\\anaconda3\\lib\\site-packages (from aiohttp->gradio->-r requirements.txt (line 13)) (1.8.2)\n",
      "Requirement already satisfied: frozenlist>=1.1.1 in c:\\users\\marle\\anaconda3\\lib\\site-packages (from aiohttp->gradio->-r requirements.txt (line 13)) (1.3.3)\n",
      "Requirement already satisfied: aiosignal>=1.1.2 in c:\\users\\marle\\anaconda3\\lib\\site-packages (from aiohttp->gradio->-r requirements.txt (line 13)) (1.3.1)\n",
      "Requirement already satisfied: async-timeout<5.0,>=4.0.0a3 in c:\\users\\marle\\anaconda3\\lib\\site-packages (from aiohttp->gradio->-r requirements.txt (line 13)) (4.0.2)\n",
      "Requirement already satisfied: attrs>=17.3.0 in c:\\users\\marle\\anaconda3\\lib\\site-packages (from aiohttp->gradio->-r requirements.txt (line 13)) (21.4.0)\n",
      "Requirement already satisfied: soupsieve>1.2 in c:\\users\\marle\\anaconda3\\lib\\site-packages (from beautifulsoup4->gdown->-r requirements.txt (line 14)) (2.3.1)\n",
      "Requirement already satisfied: starlette<0.25.0,>=0.24.0 in c:\\users\\marle\\anaconda3\\lib\\site-packages (from fastapi->gradio->-r requirements.txt (line 13)) (0.24.0)\n",
      "Requirement already satisfied: rfc3986[idna2008]<2,>=1.3 in c:\\users\\marle\\anaconda3\\lib\\site-packages (from httpx->gradio->-r requirements.txt (line 13)) (1.5.0)\n",
      "Requirement already satisfied: httpcore<0.17.0,>=0.15.0 in c:\\users\\marle\\anaconda3\\lib\\site-packages (from httpx->gradio->-r requirements.txt (line 13)) (0.16.3)\n",
      "Requirement already satisfied: sniffio in c:\\users\\marle\\anaconda3\\lib\\site-packages (from httpx->gradio->-r requirements.txt (line 13)) (1.2.0)\n",
      "Requirement already satisfied: kiwisolver>=1.0.1 in c:\\users\\marle\\anaconda3\\lib\\site-packages (from matplotlib->gradio->-r requirements.txt (line 13)) (1.4.2)\n",
      "Requirement already satisfied: cycler>=0.10 in c:\\users\\marle\\anaconda3\\lib\\site-packages (from matplotlib->gradio->-r requirements.txt (line 13)) (0.11.0)\n",
      "Requirement already satisfied: fonttools>=4.22.0 in c:\\users\\marle\\anaconda3\\lib\\site-packages (from matplotlib->gradio->-r requirements.txt (line 13)) (4.25.0)\n",
      "Requirement already satisfied: PySocks!=1.5.7,>=1.5.6 in c:\\users\\marle\\anaconda3\\lib\\site-packages (from requests->gradio->-r requirements.txt (line 13)) (1.7.1)\n",
      "Requirement already satisfied: tifffile>=2019.7.26 in c:\\users\\marle\\anaconda3\\lib\\site-packages (from scikit-image->face_alignment->-r requirements.txt (line 3)) (2021.7.2)\n",
      "Requirement already satisfied: imageio>=2.4.1 in c:\\users\\marle\\anaconda3\\lib\\site-packages (from scikit-image->face_alignment->-r requirements.txt (line 3)) (2.19.3)\n",
      "Requirement already satisfied: PyWavelets>=1.1.1 in c:\\users\\marle\\anaconda3\\lib\\site-packages (from scikit-image->face_alignment->-r requirements.txt (line 3)) (1.3.0)\n",
      "Requirement already satisfied: networkx>=2.2 in c:\\users\\marle\\anaconda3\\lib\\site-packages (from scikit-image->face_alignment->-r requirements.txt (line 3)) (2.8.4)\n",
      "Requirement already satisfied: colorama in c:\\users\\marle\\anaconda3\\lib\\site-packages (from tqdm->face_alignment->-r requirements.txt (line 3)) (0.4.5)\n",
      "Requirement already satisfied: click>=7.0 in c:\\users\\marle\\anaconda3\\lib\\site-packages (from uvicorn->gradio->-r requirements.txt (line 13)) (8.0.4)\n",
      "Requirement already satisfied: h11>=0.8 in c:\\users\\marle\\anaconda3\\lib\\site-packages (from uvicorn->gradio->-r requirements.txt (line 13)) (0.14.0)\n",
      "Requirement already satisfied: anyio<5.0,>=3.0 in c:\\users\\marle\\anaconda3\\lib\\site-packages (from httpcore<0.17.0,>=0.15.0->httpx->gradio->-r requirements.txt (line 13)) (3.5.0)\n",
      "Requirement already satisfied: pyrsistent!=0.17.0,!=0.17.1,!=0.17.2,>=0.14.0 in c:\\users\\marle\\anaconda3\\lib\\site-packages (from jsonschema>=3.0->altair>=4.2.0->gradio->-r requirements.txt (line 13)) (0.18.0)\n",
      "Requirement already satisfied: uc-micro-py in c:\\users\\marle\\anaconda3\\lib\\site-packages (from linkify-it-py~=1.0->markdown-it-py[linkify,plugins]>=2.0.0->gradio->-r requirements.txt (line 13)) (1.0.1)\n"
     ]
    }
   ],
   "source": [
    "%%pip install -r requirements.txt"
   ]
  },
  {
   "cell_type": "code",
   "execution_count": 6,
   "metadata": {},
   "outputs": [
    {
     "name": "stdout",
     "output_type": "stream",
     "text": [
      "Requirement already satisfied: pip in c:\\users\\marle\\anaconda3\\lib\\site-packages (22.2.2)\n",
      "Collecting install\n",
      "  Downloading install-1.3.5-py3-none-any.whl (3.2 kB)\n",
      "Collecting huggingface-hub\n",
      "  Downloading huggingface_hub-0.12.0-py3-none-any.whl (190 kB)\n",
      "     -------------------------------------- 190.3/190.3 kB 2.3 MB/s eta 0:00:00\n",
      "Collecting transformers\n",
      "  Downloading transformers-4.26.1-py3-none-any.whl (6.3 MB)\n",
      "     ---------------------------------------- 6.3/6.3 MB 2.3 MB/s eta 0:00:00\n",
      "Collecting tokenizers\n",
      "  Downloading tokenizers-0.13.2-cp39-cp39-win_amd64.whl (3.3 MB)\n",
      "     ---------------------------------------- 3.3/3.3 MB 2.3 MB/s eta 0:00:00\n",
      "Requirement already satisfied: typing-extensions>=3.7.4.3 in c:\\users\\marle\\anaconda3\\lib\\site-packages (from huggingface-hub) (4.3.0)\n",
      "Requirement already satisfied: pyyaml>=5.1 in c:\\users\\marle\\anaconda3\\lib\\site-packages (from huggingface-hub) (6.0)\n",
      "Requirement already satisfied: filelock in c:\\users\\marle\\anaconda3\\lib\\site-packages (from huggingface-hub) (3.6.0)\n",
      "Requirement already satisfied: requests in c:\\users\\marle\\anaconda3\\lib\\site-packages (from huggingface-hub) (2.28.1)\n",
      "Requirement already satisfied: tqdm>=4.42.1 in c:\\users\\marle\\anaconda3\\lib\\site-packages (from huggingface-hub) (4.64.1)\n",
      "Requirement already satisfied: packaging>=20.9 in c:\\users\\marle\\anaconda3\\lib\\site-packages (from huggingface-hub) (21.3)\n",
      "Requirement already satisfied: numpy>=1.17 in c:\\users\\marle\\anaconda3\\lib\\site-packages (from transformers) (1.21.5)\n",
      "Requirement already satisfied: regex!=2019.12.17 in c:\\users\\marle\\anaconda3\\lib\\site-packages (from transformers) (2022.7.9)\n",
      "Requirement already satisfied: pyparsing!=3.0.5,>=2.0.2 in c:\\users\\marle\\anaconda3\\lib\\site-packages (from packaging>=20.9->huggingface-hub) (3.0.9)\n",
      "Requirement already satisfied: colorama in c:\\users\\marle\\anaconda3\\lib\\site-packages (from tqdm>=4.42.1->huggingface-hub) (0.4.5)\n",
      "Requirement already satisfied: charset-normalizer<3,>=2 in c:\\users\\marle\\anaconda3\\lib\\site-packages (from requests->huggingface-hub) (2.0.4)\n",
      "Requirement already satisfied: idna<4,>=2.5 in c:\\users\\marle\\anaconda3\\lib\\site-packages (from requests->huggingface-hub) (3.3)\n",
      "Requirement already satisfied: certifi>=2017.4.17 in c:\\users\\marle\\anaconda3\\lib\\site-packages (from requests->huggingface-hub) (2022.9.14)\n",
      "Requirement already satisfied: urllib3<1.27,>=1.21.1 in c:\\users\\marle\\anaconda3\\lib\\site-packages (from requests->huggingface-hub) (1.26.11)\n",
      "Installing collected packages: tokenizers, install, huggingface-hub, transformers\n",
      "Successfully installed huggingface-hub-0.12.0 install-1.3.5 tokenizers-0.13.2 transformers-4.26.1\n",
      "Requirement already satisfied: huggingface-hub in c:\\users\\marle\\anaconda3\\lib\\site-packages (0.12.0)\n",
      "Collecting transformers\n",
      "  Using cached transformers-4.26.1-py3-none-any.whl (6.3 MB)\n",
      "Requirement already satisfied: tokenizers in c:\\users\\marle\\anaconda3\\lib\\site-packages (0.13.2)\n",
      "Requirement already satisfied: packaging>=20.9 in c:\\users\\marle\\anaconda3\\lib\\site-packages (from huggingface-hub) (21.3)\n",
      "Requirement already satisfied: typing-extensions>=3.7.4.3 in c:\\users\\marle\\anaconda3\\lib\\site-packages (from huggingface-hub) (4.3.0)\n",
      "Requirement already satisfied: requests in c:\\users\\marle\\anaconda3\\lib\\site-packages (from huggingface-hub) (2.28.1)\n",
      "Requirement already satisfied: filelock in c:\\users\\marle\\anaconda3\\lib\\site-packages (from huggingface-hub) (3.6.0)\n",
      "Requirement already satisfied: pyyaml>=5.1 in c:\\users\\marle\\anaconda3\\lib\\site-packages (from huggingface-hub) (6.0)\n",
      "Requirement already satisfied: tqdm>=4.42.1 in c:\\users\\marle\\anaconda3\\lib\\site-packages (from huggingface-hub) (4.64.1)\n",
      "Requirement already satisfied: numpy>=1.17 in c:\\users\\marle\\anaconda3\\lib\\site-packages (from transformers) (1.21.5)\n",
      "Requirement already satisfied: regex!=2019.12.17 in c:\\users\\marle\\anaconda3\\lib\\site-packages (from transformers) (2022.7.9)\n",
      "Requirement already satisfied: pyparsing!=3.0.5,>=2.0.2 in c:\\users\\marle\\anaconda3\\lib\\site-packages (from packaging>=20.9->huggingface-hub) (3.0.9)\n",
      "Requirement already satisfied: colorama in c:\\users\\marle\\anaconda3\\lib\\site-packages (from tqdm>=4.42.1->huggingface-hub) (0.4.5)\n",
      "Requirement already satisfied: certifi>=2017.4.17 in c:\\users\\marle\\anaconda3\\lib\\site-packages (from requests->huggingface-hub) (2022.9.14)\n",
      "Requirement already satisfied: idna<4,>=2.5 in c:\\users\\marle\\anaconda3\\lib\\site-packages (from requests->huggingface-hub) (3.3)\n",
      "Requirement already satisfied: charset-normalizer<3,>=2 in c:\\users\\marle\\anaconda3\\lib\\site-packages (from requests->huggingface-hub) (2.0.4)\n",
      "Requirement already satisfied: urllib3<1.27,>=1.21.1 in c:\\users\\marle\\anaconda3\\lib\\site-packages (from requests->huggingface-hub) (1.26.11)\n",
      "Installing collected packages: transformers\n",
      "Successfully installed transformers-4.26.1\n"
     ]
    }
   ],
   "source": [
    "%%pip install huggingface-hub transformers tokenizers"
   ]
  },
  {
   "cell_type": "code",
   "execution_count": 7,
   "metadata": {},
   "outputs": [],
   "source": [
    "from huggingface_hub import hf_hub_download\n",
    "from huggingface_hub import login\n",
    "from huggingface_hub import HfApi\n",
    "from huggingface_hub import snapshot_download"
   ]
  },
  {
   "attachments": {},
   "cell_type": "markdown",
   "metadata": {},
   "source": [
    "## Implementing Downstream Support (Downloading files or folders)\n",
    "\n",
    "This code allows you to download files or folders from the hugging face hub"
   ]
  },
  {
   "cell_type": "code",
   "execution_count": 8,
   "metadata": {},
   "outputs": [],
   "source": [
    "#download files \n",
    "def download_file(repo_name, f_name, revision='main', repo_type='model'):\n",
    "    \n",
    "    file_location = hf_hub_download(repo_id=repo_name, filename=f_name, revision= revision, repo_type = repo_type)\n",
    "    return file_location"
   ]
  },
  {
   "cell_type": "code",
   "execution_count": 9,
   "metadata": {},
   "outputs": [],
   "source": [
    "#download a folder\n",
    "def download_folder(repo_name, revision='main'):\n",
    "    \n",
    "    folder_location = snapshot_download(repo_id=repo_name, revision=revision)\n",
    "\n",
    "    return folder_location"
   ]
  },
  {
   "attachments": {},
   "cell_type": "markdown",
   "metadata": {},
   "source": [
    "## Implementing Upstream Support (Uploading files or folders)\n",
    "\n",
    "This code allows you to upload files or folders from the hugging face hub"
   ]
  },
  {
   "cell_type": "code",
   "execution_count": 10,
   "metadata": {},
   "outputs": [],
   "source": [
    "def upload_file(token, local_path, repo_path, repo_id, repo_type):\n",
    "    \n",
    "    #Whenever you want to upload files to the Hub, you need to log in to your Hugging Face account\n",
    "    login(token=token)\n",
    "\n",
    "    api = HfApi()\n",
    "\n",
    "    api.upload_file(\n",
    "    path_or_fileobj=local_path,\n",
    "    path_in_repo=repo_path,\n",
    "    repo_id=repo_id,\n",
    "    repo_type=repo_type,\n",
    "    )"
   ]
  },
  {
   "cell_type": "code",
   "execution_count": 11,
   "metadata": {},
   "outputs": [],
   "source": [
    "def upload_folder(token, local_path, repo_path, repo_id, repo_type,ignore_patterns):\n",
    "    \n",
    "    #Whenever you want to upload files to the Hub, you need to log in to your Hugging Face account\n",
    "    login(token=token)\n",
    "\n",
    "    api = HfApi()\n",
    "\n",
    "    api.upload_folder(\n",
    "    folder_path=local_path,\n",
    "    path_in_repo=repo_path,\n",
    "    repo_id=repo_id,\n",
    "    repo_type=repo_type,\n",
    "    ignore_patterns=ignore_patterns,\n",
    "    )"
   ]
  },
  {
   "attachments": {},
   "cell_type": "markdown",
   "metadata": {},
   "source": [
    "## Download the 3 models from Hugging Face Hub"
   ]
  },
  {
   "cell_type": "code",
   "execution_count": 12,
   "metadata": {},
   "outputs": [],
   "source": [
    "#download the  3 models into the cptk folder contained in the examples folder\n",
    "\n",
    "#voice_conversion model\n",
    "voice_conv_loc = download_file(repo_name='marlenezw/Voice_Conversion', f_name='ckpt_autovc.pth')\n",
    "#speech_content_model\n",
    "speech_loc = download_file(repo_name='marlenezw/Speech_Content_Model', f_name ='ckpt_content_branch.pth')\n",
    "#speaker_aware_model\n",
    "speaker_aware_loc= download_file(repo_name='marlenezw/Speaker_Aware_Model', f_name='ckpt_speaker_branch.pth')"
   ]
  },
  {
   "cell_type": "code",
   "execution_count": 13,
   "metadata": {},
   "outputs": [
    {
     "name": "stdout",
     "output_type": "stream",
     "text": [
      "C:\\Users\\marle\\.cache\\huggingface\\hub\\models--marlenezw--Voice_Conversion\\snapshots\\4f4c9136e9d08e6f5552fd82f800b5e72ab9be4f\\ckpt_autovc.pth\n",
      "C:\\Users\\marle\\.cache\\huggingface\\hub\\models--marlenezw--Speech_Content_Model\\snapshots\\b49227b3287a480152a9a099e5d0ab662265c236\\ckpt_content_branch.pth\n",
      "C:\\Users\\marle\\.cache\\huggingface\\hub\\models--marlenezw--Speaker_Aware_Model\\snapshots\\384a96eeb47e0842769576ecf0005bd24f20b9d0\\ckpt_speaker_branch.pth\n"
     ]
    }
   ],
   "source": [
    "#let's print out the downloaded file locations, we'll use them to edit the main_end2end.py file\n",
    "#that's where the models are read in. (todo: update the other end2end and demo notebooks)\n",
    "print(f'{voice_conv_loc}')\n",
    "print(f'{speech_loc}')\n",
    "print(f'{speaker_aware_loc}')"
   ]
  },
  {
   "attachments": {},
   "cell_type": "markdown",
   "metadata": {},
   "source": [
    "I copy the ckpt files manually into the examples/ckpt folder for the sake of time since I'm on WSL so the format isn't right. \n",
    "\n",
    "\n",
    "I then run `python3 animation_app.py` to run my gradio demo. "
   ]
  }
 ],
 "metadata": {
  "kernelspec": {
   "display_name": "base",
   "language": "python",
   "name": "python3"
  },
  "language_info": {
   "codemirror_mode": {
    "name": "ipython",
    "version": 3
   },
   "file_extension": ".py",
   "mimetype": "text/x-python",
   "name": "python",
   "nbconvert_exporter": "python",
   "pygments_lexer": "ipython3",
   "version": "3.9.13"
  },
  "orig_nbformat": 4,
  "vscode": {
   "interpreter": {
    "hash": "26722a954f3e00d52615fa19b6fad82203d202b2c8708080dd2e66f19da31bf6"
   }
  }
 },
 "nbformat": 4,
 "nbformat_minor": 2
}
